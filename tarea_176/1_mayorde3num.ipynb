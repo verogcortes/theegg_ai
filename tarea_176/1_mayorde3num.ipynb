{
 "cells": [
  {
   "cell_type": "code",
   "execution_count": 7,
   "metadata": {},
   "outputs": [
    {
     "name": "stdout",
     "output_type": "stream",
     "text": [
      "a es el número mayor\n"
     ]
    }
   ],
   "source": [
    "a=40\n",
    "b=10\n",
    "c=20\n",
    "if a > b and a > c:\n",
    "    print(\"a es el número mayor\")\n",
    "elif b > a and b > c:\n",
    "     print(\"b es el número mayor\")\n",
    "else:\n",
    "    print(\"c es el número mayor\")"
   ]
  }
 ],
 "metadata": {
  "kernelspec": {
   "display_name": "Python 3",
   "language": "python",
   "name": "python3"
  },
  "language_info": {
   "codemirror_mode": {
    "name": "ipython",
    "version": 3
   },
   "file_extension": ".py",
   "mimetype": "text/x-python",
   "name": "python",
   "nbconvert_exporter": "python",
   "pygments_lexer": "ipython3",
   "version": "3.10.0 (tags/v3.10.0:b494f59, Oct  4 2021, 19:00:18) [MSC v.1929 64 bit (AMD64)]"
  },
  "orig_nbformat": 4,
  "vscode": {
   "interpreter": {
    "hash": "ba0550b9c85d5e862442c5b3a9c81ce8015209401b1f2b1213f303de574c2548"
   }
  }
 },
 "nbformat": 4,
 "nbformat_minor": 2
}
