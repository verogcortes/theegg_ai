{
 "cells": [
  {
   "cell_type": "markdown",
   "metadata": {
    "slideshow": {
     "slide_type": "slide"
    }
   },
   "source": [
    "------------------------------------------------------------------------------------------------------<br>\n",
    "<h3 style=\"background:#87a1c2; color:#ffffff; padding:20px; border-radius:5px;\">✍ EJERCICIOS NUMPY PARA @EGGERS</h3><br>\n",
    "------------------------------------------------------------------------------------------------------<br>"
   ]
  },
  {
   "cell_type": "markdown",
   "metadata": {
    "slideshow": {
     "slide_type": "slide"
    }
   },
   "source": [
    "1. Crea un vector entre 7 y 66.\n",
    "2. Invierte el vector generado anteriormente.\n",
    "3. Matriz de 4x4 con valores entre 0 y 15.\n",
    "5. Crea la matriz identidad de 5x5.\n",
    "6. Crea una matriz de 5x5 donde la posición central y todas las posiciones que conforman el marco valgan 1 y el resto 0.\n",
    "7. Matriz de 4x4 donde cada fila valga entre 3 y 0. Valores in crescendo.\n",
    "8. Crea un array de ceros de 2x7.\n",
    "9. Crea un array de ceros de 5x4 excepto toda la primera fila que valga 1.\n",
    "10. Crea un array que represente una tabla de ajedrez. Negras 1 y blancas 0."
   ]
  }
 ],
 "metadata": {
  "kernelspec": {
   "display_name": "Python 3",
   "language": "python",
   "name": "python3"
  },
  "language_info": {
   "codemirror_mode": {
    "name": "ipython",
    "version": 3
   },
   "file_extension": ".py",
   "mimetype": "text/x-python",
   "name": "python",
   "nbconvert_exporter": "python",
   "pygments_lexer": "ipython3",
   "version": "3.8.5"
  }
 },
 "nbformat": 4,
 "nbformat_minor": 1
}
